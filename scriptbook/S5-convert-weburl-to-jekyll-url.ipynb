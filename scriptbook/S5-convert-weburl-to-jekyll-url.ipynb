{
 "cells": [
  {
   "cell_type": "markdown",
   "metadata": {},
   "source": [
    "# Target : http://127.0.0.1:4000/2021/03/20/Fluid-Typography-with-CSS-Clamp()-is-My-New-Favorite-Thing-DEV-Community.html\n",
    "# File Path : 2021-03-20-Fluid-Typography-with-CSS-Clamp()-is-My-New-Favorite Thing---DEV-Community.md\n",
    "# Title : Fluid Typography with CSS-Clamp() is My New Favorite Thing"
   ]
  },
  {
   "cell_type": "code",
   "execution_count": 18,
   "metadata": {},
   "outputs": [
    {
     "name": "stdout",
     "output_type": "stream",
     "text": [
      "\u001b[1;32;43m [CSV] \u001b[0m Processing CSV header id, title, url, main_image_url, reading_time, author_name, author_username, author_id, published_at, tag_names, keywords_for_search, comments_count, public_reactions_count, highlight |2021-05-09 20:31:52|\n",
      "\u001b[1;32;43m [CSV] \u001b[0m File processed successfully with 2375 ids. |2021-05-09 20:31:52|\n"
     ]
    }
   ],
   "source": [
    "from selenium import webdriver\n",
    "from bs4 import BeautifulSoup\n",
    "from neo4j import GraphDatabase, basic_auth\n",
    "from neo4j.exceptions import Neo4jError\n",
    "import csv\n",
    "import json\n",
    "import time\n",
    "import os\n",
    "import re\n",
    "FOLDER_PATH = '../web/_posts/'\n",
    "test_url = 'https://dev.to/cruip/50-free-tools-and-resources-to-create-awesome-user-interfaces-1c1b'\n",
    "DATA_FILE_PATH = 'dev-to-articles.csv'\n",
    "DATABASE_USERNAME=\"neo4j\"\n",
    "DATABASE_PASSWORD=\"spade-discounts-switch\"\n",
    "DATABASE_URL=\"bolt://localhost:7687\"\n",
    "DATA_FILE_PATH = 'dev-to-articles.csv'\n",
    "driver = GraphDatabase.driver(DATABASE_URL, auth=basic_auth(DATABASE_USERNAME, str(DATABASE_PASSWORD)))\n",
    "\n",
    "def cprint(content,module='DEBUG',*args):\n",
    "    if args:\n",
    "        print('\\033[1;32;43m ['+module+'] \\033[0m '+ content + '\\033[1;35m' +str(args) +' \\033[0m' + time.strftime(\" |%Y-%m-%d %H:%M:%S|\", time.localtime()) )\n",
    "    else:\n",
    "        print('\\033[1;32;43m ['+module+'] \\033[0m '+ content + time.strftime(\" |%Y-%m-%d %H:%M:%S|\", time.localtime()))\n",
    "\n",
    "def remove_invalid_text(title):\n",
    "    rstr = r\"[\\/\\\\\\:\\*\\?\\\"\\<\\>\\|]\"  # '/ \\ : * ? \" < > |'\n",
    "    new_title = re.sub(rstr, \"\", title) \n",
    "    return new_title\n",
    "def init_yaml_header(soup):\n",
    "    '''\n",
    "    Args: soup of source post\n",
    "    Return: valid yaml for riinosite3\n",
    "    '''\n",
    "    title = soup.head.title.string\n",
    "    date = soup.find(\"time\", {\"class\":\"date\"})['datetime'][:10]\n",
    "    author = soup.find(\"a\",{\"class\":\"flex items-center mr-4 mb-4 s:mb-0 fw-medium crayons-link\"}).contents[-1].replace('\\n','').strip()\n",
    "    yaml = ['---\\n',\n",
    "            'layout: post\\n'\n",
    "            f'title: \"{title}\"\\n',\n",
    "            f'author: \"{author}\"\\n',\n",
    "            f'date: {date}\\n',\n",
    "            'toc: false\\n'\n",
    "            'tags:\\n'\n",
    "           ]\n",
    "    for tag in soup.find_all(\"a\",{\"class\":\"crayons-tag\"}):\n",
    "        yaml.append('    - '+tag.text[1:]+'\\n')\n",
    "    yaml.append('---\\n')\n",
    "    return yaml\n",
    "def generate_post_filename(published_at,title):\n",
    "    '''\n",
    "    Args: soup of source post\n",
    "    Return: valid file name for riinosite3\n",
    "    '''\n",
    "    filename =  published_at[:10]+'-'+title.replace(' ','-')+'---DEV-Community'+'.md'\n",
    "    filename = remove_invalid_text(filename)\n",
    "    filename = filename.replace('.','-')\n",
    "    return filename\n",
    "def save_markdown_file(soup,folder_path):\n",
    "    '''\n",
    "    Args: save markdown file from soup into target folder path\n",
    "    Return: None\n",
    "    '''\n",
    "    with open(FOLDER_PATH+generate_post_filename(soup), mode='w',encoding=\"utf-8\") as file_w:\n",
    "        #write yaml\n",
    "        file_w.writelines(init_yaml_header(soup))\n",
    "        #write body\n",
    "        for i in soup.find(\"div\", {\"id\":\"article-body\"}).contents:\n",
    "            file_w.write(str(i))\n",
    "        cprint('Write file ssuccessfully ','FILE',FOLDER_PATH+generate_post_filename(soup))\n",
    "    file_w.close()\n",
    "\n",
    "def db_update_article_jekyll_path(session,id,value):\n",
    "    '''\n",
    "    Add a new value for article node with id\n",
    "    Args:\n",
    "        session: db session,driver.session()\n",
    "        id: article id, in csv file.\n",
    "        value: value of that key : reading_time\n",
    "    '''\n",
    "    def _cypher(tx,key,value):\n",
    "        return list(tx.run(\n",
    "        '''\n",
    "        MATCH (n:Article { id: $id })\n",
    "        SET n.jekyll_path = $value\n",
    "        RETURN n\n",
    "        '''\n",
    "        ))\n",
    "    result = session.write_transaction(_cypher,key,value)\n",
    "    return result\n",
    "\n",
    "article_props = []\n",
    "\n",
    "if os.path.exists(DATA_FILE_PATH):\n",
    "    if not os.path.getsize(DATA_FILE_PATH):\n",
    "        cprint(DATA_FILE_PATH +'is empty')\n",
    "    else:\n",
    "        with open(DATA_FILE_PATH, mode='r',encoding=\"utf-8\") as data_file_r:\n",
    "            csv_reader = csv.DictReader(data_file_r)\n",
    "            line_count = 0\n",
    "            props=set()\n",
    "            for row in csv_reader:\n",
    "                if line_count == 0:\n",
    "                    cprint(f'Processing CSV header {\", \".join(row)}','CSV')\n",
    "                    line_count += 1\n",
    "                article_prop = {\n",
    "                            'id': row['id'],\n",
    "                            'title': row['title'],\n",
    "                            'url': row['url'],\n",
    "                            'main_image_url': row['main_image_url'],\n",
    "                            'reading_time': row['reading_time'],\n",
    "                            'tag_names': row['tag_names'],\n",
    "                            'published_at': row['published_at'],\n",
    "                            'source_site':'dev.to',\n",
    "                            'author_name':row['author_name'],\n",
    "                            'count':row['public_reactions_count']\n",
    "                }\n",
    "                if article_prop in article_props:\n",
    "                    continue\n",
    "                else:\n",
    "                    article_props.append(article_prop)\n",
    "                line_count += 1\n",
    "            cprint(f'File processed successfully with {line_count-1} ids.','CSV')\n",
    "        data_file_r.close()\n",
    "else:\n",
    "    cprint(DATA_FILE_PATH +' does not exist')"
   ]
  },
  {
   "cell_type": "code",
   "execution_count": 13,
   "metadata": {},
   "outputs": [
    {
     "data": {
      "text/plain": [
       "'2020-10-06-ReactJS-Roadmap-🗺-For-Developers.💻---DEV-Community.md'"
      ]
     },
     "execution_count": 13,
     "metadata": {},
     "output_type": "execute_result"
    }
   ],
   "source": [
    "generate_post_filename(article_props[1]['published_at'],article_props[1]['title'])"
   ]
  },
  {
   "cell_type": "code",
   "execution_count": 20,
   "metadata": {},
   "outputs": [
    {
     "data": {
      "text/plain": [
       "'../web/_posts/2020-10-06-ReactJS-Roadmap-🗺-For-Developers-💻---DEV-Community-md'"
      ]
     },
     "execution_count": 20,
     "metadata": {},
     "output_type": "execute_result"
    }
   ],
   "source": [
    "FOLDER_PATH+generate_post_filename(article_props[1]['published_at'],article_props[1]['title'])"
   ]
  },
  {
   "cell_type": "code",
   "execution_count": null,
   "metadata": {},
   "outputs": [],
   "source": [
    "'2020-10-06-ReactJS-Roadmap-🗺-For-Developers-💻---DEV-Community.md'"
   ]
  }
 ],
 "metadata": {
  "kernelspec": {
   "display_name": "Python 3",
   "language": "python",
   "name": "python3"
  },
  "language_info": {
   "codemirror_mode": {
    "name": "ipython",
    "version": 3
   },
   "file_extension": ".py",
   "mimetype": "text/x-python",
   "name": "python",
   "nbconvert_exporter": "python",
   "pygments_lexer": "ipython3",
   "version": "3.9.0"
  }
 },
 "nbformat": 4,
 "nbformat_minor": 4
}
