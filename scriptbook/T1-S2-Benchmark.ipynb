{
 "cells": [
  {
   "cell_type": "markdown",
   "metadata": {},
   "source": [
    "## DPDS Test Script\n",
    "This script will run a benchmark upon a given dataset, default dataset download: http://boston.lti.cs.cmu.edu/appendices/WWW2016/\n",
    "Run all cells below to init DB, and run script `S3` to establish knowledge graph.\n",
    "To change your data source, check `S1`, to change knowledge graph , check `S3`. To managem files, check `S4`."
   ]
  },
  {
   "cell_type": "code",
   "execution_count": 1,
   "metadata": {},
   "outputs": [],
   "source": [
    "from neo4j import GraphDatabase, basic_auth\n",
    "from neo4j.exceptions import Neo4jError\n",
    "import neo4j.time\n",
    "import csv\n",
    "import json\n",
    "import time\n",
    "import os\n",
    "DATABASE_USERNAME=\"neo4j\"\n",
    "DATABASE_PASSWORD=\"spade-discounts-switch\"\n",
    "DATABASE_URL=\"bolt://localhost:7687\"\n",
    "def cprint(content,module='DEBUG',*args):\n",
    "    if args:\n",
    "        print('\\033[1;32;43m ['+module+'] \\033[0m '+ content + '\\033[1;35m' +str(args) +' \\033[0m' + time.strftime(\" |%Y-%m-%d %H:%M:%S|\", time.localtime()) )\n",
    "    else:\n",
    "        print('\\033[1;32;43m ['+module+'] \\033[0m '+ content + time.strftime(\" |%Y-%m-%d %H:%M:%S|\", time.localtime()))\n",
    "        \n",
    "driver = GraphDatabase.driver(DATABASE_URL, auth=basic_auth(DATABASE_USERNAME, str(DATABASE_PASSWORD)))\n"
   ]
  },
  {
   "cell_type": "code",
   "execution_count": 2,
   "metadata": {},
   "outputs": [],
   "source": [
    "s2_doc = []\n",
    "with open(\"./S2/s2_doc.json\", \"r\") as f_r:\n",
    "    s2_doc = f_r.readlines()\n",
    "    \n",
    "\n",
    "        "
   ]
  },
  {
   "cell_type": "code",
   "execution_count": 3,
   "metadata": {},
   "outputs": [],
   "source": [
    "hasKey = 0\n",
    "notHasKey = 0\n",
    "for i in s2_doc:\n",
    "    row = json.loads(i[:-1])\n",
    "    if not 'keyPhrases' in row:\n",
    "        notHasKey +=1\n",
    "    else:\n",
    "        hasKey +=1\n",
    "        "
   ]
  },
  {
   "cell_type": "code",
   "execution_count": 4,
   "metadata": {},
   "outputs": [
    {
     "name": "stdout",
     "output_type": "stream",
     "text": [
      "8541 6949 1592\n"
     ]
    }
   ],
   "source": [
    "print(len(s2_doc),hasKey,notHasKey)"
   ]
  },
  {
   "cell_type": "code",
   "execution_count": 5,
   "metadata": {},
   "outputs": [],
   "source": [
    "article_props = []\n",
    "tag_props = []\n",
    "for i in s2_doc:\n",
    "    row = json.loads(i[:-1])\n",
    "    if 'keyPhrases' in row:\n",
    "        article_prop = {\n",
    "            'title':row['title'][0],\n",
    "            'keyPhrases':'+'.join(row['keyPhrases']),\n",
    "            'docno':row['docno'],\n",
    "            'paperAbstract':row['paperAbstract'][0],\n",
    "            'numCitedBy':row['numCitedBy'][0],\n",
    "            'numKeyCitations':row['numKeyCitations'][0]\n",
    "        }\n",
    "        if not article_prop in article_props:\n",
    "            article_props.append(article_prop)\n",
    "\n",
    "        for tag in row['keyPhrases']:\n",
    "            tag_prop = { 'name': tag }\n",
    "            if not tag_prop in tag_props:\n",
    "                tag_props.append(tag_prop)"
   ]
  },
  {
   "cell_type": "code",
   "execution_count": 6,
   "metadata": {},
   "outputs": [
    {
     "data": {
      "text/plain": [
       "6949"
      ]
     },
     "execution_count": 6,
     "metadata": {},
     "output_type": "execute_result"
    }
   ],
   "source": [
    "len(article_props)"
   ]
  },
  {
   "cell_type": "code",
   "execution_count": 7,
   "metadata": {},
   "outputs": [
    {
     "data": {
      "text/plain": [
       "18582"
      ]
     },
     "execution_count": 7,
     "metadata": {},
     "output_type": "execute_result"
    }
   ],
   "source": [
    "len(tag_props)"
   ]
  },
  {
   "cell_type": "code",
   "execution_count": 8,
   "metadata": {},
   "outputs": [],
   "source": [
    "def db_create_nodes(session,labels,properties):\n",
    "    '''\n",
    "    Create nodes with custom labels and properties\n",
    "    Args:\n",
    "        session: db session,driver.session()\n",
    "        labels: [\"Human\", \"MovieStar\"]\n",
    "        properties => [{name: \"Tom Cruise\", placeOfBirth: \"Syracuse, New York, United States\"},\n",
    "                        {name: \"Reese Witherspoon\", placeOfBirth: \"New Orleans, Louisiana, United States\"}]\n",
    "    Return:\n",
    "        Added nodes \n",
    "    '''\n",
    "    def _cypher(tx, labels, properties):\n",
    "                return list(tx.run(\n",
    "                    '''\n",
    "                    CALL apoc.create.nodes( $labels, $properties);\n",
    "                    ''', {'labels': labels , 'properties': properties}\n",
    "                ))\n",
    "    result = session.write_transaction(_cypher,labels,properties)\n",
    "    cprint(str(len(result))+'record added','DB')\n",
    "    return result\n",
    "def db_create_tag_relation_to_article(session,tag_name,article_url):\n",
    "    '''\n",
    "    Args: db session, Tag.name, Article.url\n",
    "    Return: cypher result of created relation\n",
    "    '''\n",
    "    def _cypher(tx,tag_name,article_url):\n",
    "#CALL apoc.create.relationship(a, \"HAS_TAG\",{article_id:$article_id, tag_name:$tag_name},  t)\n",
    "        return list(tx.run(\n",
    "        '''\n",
    "        MATCH (a:Article {docno: $article_url})\n",
    "        MATCH (b:Tag {name: $tag_name})\n",
    "        MERGE (a)-[rel:HAS_TAG]->(b)\n",
    "        RETURN rel\n",
    "        ''',{'article_url':article_url,'tag_name':tag_name}\n",
    "        \n",
    "        ))    \n",
    "    result = session.write_transaction(_cypher,tag_name,article_url)\n",
    "    return result"
   ]
  },
  {
   "cell_type": "code",
   "execution_count": 9,
   "metadata": {},
   "outputs": [
    {
     "name": "stdout",
     "output_type": "stream",
     "text": [
      "\u001b[1;32;43m [DB] \u001b[0m 6949record added |2021-05-24 22:42:15|\n",
      "\u001b[1;32;43m [DB] \u001b[0m 18582record added |2021-05-24 22:42:17|\n"
     ]
    }
   ],
   "source": [
    "with driver.session() as session:\n",
    "    db_create_nodes(session,['Article'],article_props)\n",
    "    db_create_nodes(session,['Tag'],tag_props)\n",
    "    session.close()"
   ]
  },
  {
   "cell_type": "code",
   "execution_count": 10,
   "metadata": {},
   "outputs": [
    {
     "name": "stdout",
     "output_type": "stream",
     "text": [
      "33778 relationship added\n"
     ]
    }
   ],
   "source": [
    "with driver.session() as session:\n",
    "    counter = 0\n",
    "    for article in article_props:\n",
    "        for tag in article['keyPhrases'].split('+'):\n",
    "            res = db_create_tag_relation_to_article(session,tag,article['docno'])\n",
    "            if res:\n",
    "                counter+=1\n",
    "    print(counter,'relationship added')\n",
    "    session.close()"
   ]
  },
  {
   "cell_type": "code",
   "execution_count": null,
   "metadata": {},
   "outputs": [],
   "source": [
    "#To enable Knowledge Graph, run script S3."
   ]
  },
  {
   "cell_type": "code",
   "execution_count": null,
   "metadata": {},
   "outputs": [],
   "source": []
  }
 ],
 "metadata": {
  "kernelspec": {
   "display_name": "Python 3",
   "language": "python",
   "name": "python3"
  },
  "language_info": {
   "codemirror_mode": {
    "name": "ipython",
    "version": 3
   },
   "file_extension": ".py",
   "mimetype": "text/x-python",
   "name": "python",
   "nbconvert_exporter": "python",
   "pygments_lexer": "ipython3",
   "version": "3.9.0"
  }
 },
 "nbformat": 4,
 "nbformat_minor": 4
}
